{
 "cells": [
  {
   "cell_type": "code",
   "execution_count": 44,
   "id": "15d7fb16",
   "metadata": {},
   "outputs": [],
   "source": [
    "use std::convert::TryFrom;"
   ]
  },
  {
   "cell_type": "code",
   "execution_count": 21,
   "id": "adb04467",
   "metadata": {},
   "outputs": [],
   "source": [
    "let x: u32 = 153;\n",
    "const RADIX: u32 = 10;"
   ]
  },
  {
   "cell_type": "code",
   "execution_count": 13,
   "id": "23119e98",
   "metadata": {},
   "outputs": [],
   "source": [
    "fn print_type_of<T>(_: &T) {\n",
    "    println!(\"{}\", std::any::type_name::<T>())\n",
    "}"
   ]
  },
  {
   "cell_type": "code",
   "execution_count": 16,
   "id": "dd05c10e",
   "metadata": {},
   "outputs": [],
   "source": [
    "let y = x.to_string();"
   ]
  },
  {
   "cell_type": "code",
   "execution_count": 48,
   "id": "c12c10d1",
   "metadata": {},
   "outputs": [
    {
     "data": {
      "text/plain": [
       "153"
      ]
     },
     "execution_count": 48,
     "metadata": {},
     "output_type": "execute_result"
    }
   ],
   "source": [
    "let n_chars: u32 = u32::try_from(y.len()).unwrap();\n",
    "\n",
    "y\n",
    ".chars()\n",
    ".map(|c| u32::pow(c.to_digit(RADIX).unwrap(), n_chars))\n",
    ".sum::<u32>()"
   ]
  },
  {
   "cell_type": "code",
   "execution_count": 28,
   "id": "868a76ae",
   "metadata": {},
   "outputs": [
    {
     "data": {
      "text/plain": [
       "9"
      ]
     },
     "execution_count": 28,
     "metadata": {},
     "output_type": "execute_result"
    }
   ],
   "source": [
    "y.chars().map(|c| c.to_digit(RADIX).unwrap()).sum::<u32>()"
   ]
  }
 ],
 "metadata": {
  "kernelspec": {
   "display_name": "Rust",
   "language": "rust",
   "name": "rust"
  },
  "language_info": {
   "codemirror_mode": "rust",
   "file_extension": ".rs",
   "mimetype": "text/rust",
   "name": "Rust",
   "pygment_lexer": "rust",
   "version": ""
  }
 },
 "nbformat": 4,
 "nbformat_minor": 5
}
