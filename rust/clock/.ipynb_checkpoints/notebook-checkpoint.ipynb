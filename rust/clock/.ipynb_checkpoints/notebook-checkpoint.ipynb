{
 "cells": [
  {
   "cell_type": "code",
   "execution_count": 2,
   "id": "e175fce3",
   "metadata": {},
   "outputs": [],
   "source": [
    "use std::fmt;"
   ]
  },
  {
   "cell_type": "code",
   "execution_count": 41,
   "id": "78640f63",
   "metadata": {},
   "outputs": [],
   "source": [
    "const DAY: i32 = 24 * 60;\n",
    "\n",
    "#[derive(Debug, PartialEq)]\n",
    "pub struct Clock {\n",
    "    hours: i32, \n",
    "    minutes: i32\n",
    "}\n",
    "\n",
    "impl Clock {\n",
    "    pub fn new(hours: i32, minutes: i32) -> Self {\n",
    "       \n",
    "        let remainder = DAY.rem_euclid(hours * 60 + minutes);\n",
    "        \n",
    "        let hours = remainder / 60;\n",
    "        let minutes = remainder - (hours * 60);\n",
    "        \n",
    "        println!(\"{}, {}, {}\", hours, minutes, remainder);\n",
    "        Clock{ hours , minutes }\n",
    "    }\n",
    "\n",
    "    pub fn add_minutes(&self, minutes: i32) -> Self {\n",
    "        Clock::new(self.hours, self.minutes + minutes)\n",
    "    }\n",
    "}\n",
    "\n",
    "impl fmt::Display for Clock {\n",
    "    fn fmt(&self, f: &mut fmt::Formatter<'_>) -> fmt::Result {\n",
    "        write!(f, \"{:02}:{:02}\", self.hours, self.minutes)\n",
    "    }\n",
    "}"
   ]
  },
  {
   "cell_type": "code",
   "execution_count": 42,
   "id": "5c16f3ae",
   "metadata": {},
   "outputs": [
    {
     "name": "stdout",
     "output_type": "stream",
     "text": [
      "24, 0, 1440\n"
     ]
    },
    {
     "data": {
      "text/plain": [
       "Clock { hours: 24, minutes: 0 }"
      ]
     },
     "execution_count": 42,
     "metadata": {},
     "output_type": "execute_result"
    }
   ],
   "source": [
    "Clock::new(-25, -160)"
   ]
  },
  {
   "cell_type": "code",
   "execution_count": 38,
   "id": "8e723b63",
   "metadata": {},
   "outputs": [
    {
     "name": "stdout",
     "output_type": "stream",
     "text": [
      "0, 0, 0\n"
     ]
    },
    {
     "data": {
      "text/plain": [
       "Clock { hours: 0, minutes: 0 }"
      ]
     },
     "execution_count": 38,
     "metadata": {},
     "output_type": "execute_result"
    }
   ],
   "source": [
    "Clock::new(1, -120)"
   ]
  }
 ],
 "metadata": {
  "kernelspec": {
   "display_name": "Rust",
   "language": "rust",
   "name": "rust"
  },
  "language_info": {
   "codemirror_mode": "rust",
   "file_extension": ".rs",
   "mimetype": "text/rust",
   "name": "Rust",
   "pygment_lexer": "rust",
   "version": ""
  }
 },
 "nbformat": 4,
 "nbformat_minor": 5
}
