{
 "cells": [
  {
   "cell_type": "code",
   "execution_count": 13,
   "id": "2bcc5441",
   "metadata": {},
   "outputs": [],
   "source": [
    "use std::collections::HashSet;"
   ]
  },
  {
   "cell_type": "code",
   "execution_count": 2,
   "id": "1bf64462",
   "metadata": {},
   "outputs": [],
   "source": [
    "let limit = 10_000;\n",
    "let factors: [i32; 5] = [2, 3, 5, 7, 11];"
   ]
  },
  {
   "cell_type": "code",
   "execution_count": 20,
   "id": "b3eefffe",
   "metadata": {},
   "outputs": [
    {
     "data": {
      "text/plain": [
       "78"
      ]
     },
     "execution_count": 20,
     "metadata": {},
     "output_type": "execute_result"
    }
   ],
   "source": [
    "let mut unique_factors = HashSet::new();\n",
    "for f in factors {\n",
    "    let mut x = 1;\n",
    "    while f * x < limit {\n",
    "        unique_factors.insert(f * x);\n",
    "        x += 1;\n",
    "    }\n",
    "}\n",
    "unique_factors.iter().sum::<i32>() as u32"
   ]
  }
 ],
 "metadata": {
  "kernelspec": {
   "display_name": "Rust",
   "language": "rust",
   "name": "rust"
  },
  "language_info": {
   "codemirror_mode": "rust",
   "file_extension": ".rs",
   "mimetype": "text/rust",
   "name": "Rust",
   "pygment_lexer": "rust",
   "version": ""
  }
 },
 "nbformat": 4,
 "nbformat_minor": 5
}
