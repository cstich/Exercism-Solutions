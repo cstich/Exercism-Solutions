{
 "cells": [
  {
   "cell_type": "code",
   "execution_count": 13,
   "id": "d24784bc",
   "metadata": {},
   "outputs": [],
   "source": [
    "use std::collections::HashSet;"
   ]
  },
  {
   "cell_type": "code",
   "execution_count": 22,
   "id": "60d0128b",
   "metadata": {},
   "outputs": [],
   "source": [
    "let limit = 10_000;\n",
    "let factors: [i32; 5] = [2, 3, 5, 7, 11];"
   ]
  },
  {
   "cell_type": "code",
   "execution_count": 23,
   "id": "80e3c656",
   "metadata": {},
   "outputs": [
    {
     "data": {
      "text/plain": [
       "39614537"
      ]
     },
     "execution_count": 23,
     "metadata": {},
     "output_type": "execute_result"
    }
   ],
   "source": [
    "let mut unique_factors = HashSet::new();\n",
    "for f in factors {\n",
    "    let mut x = 1;\n",
    "    while f * x < limit {\n",
    "        unique_factors.insert(f * x);\n",
    "        x += 1;\n",
    "    }\n",
    "}\n",
    "unique_factors.iter().sum::<i32>() as u32"
   ]
  },
  {
   "cell_type": "code",
   "execution_count": null,
   "id": "f5fcb734",
   "metadata": {},
   "outputs": [],
   "source": []
  }
 ],
 "metadata": {
  "kernelspec": {
   "display_name": "Rust",
   "language": "rust",
   "name": "rust"
  },
  "language_info": {
   "codemirror_mode": "rust",
   "file_extension": ".rs",
   "mimetype": "text/rust",
   "name": "Rust",
   "pygment_lexer": "rust",
   "version": ""
  }
 },
 "nbformat": 4,
 "nbformat_minor": 5
}
