{
 "cells": [
  {
   "cell_type": "code",
   "execution_count": 74,
   "id": "770f3c2f",
   "metadata": {},
   "outputs": [],
   "source": [
    ":dep time = {version = \"0.3\", features = [\"large-dates\"] } \n",
    "use time::{Date, Duration, Month, PrimitiveDateTime, Time};\n",
    "use std::time::{SystemTime, UNIX_EPOCH};"
   ]
  },
  {
   "cell_type": "code",
   "execution_count": 8,
   "id": "6ba30809",
   "metadata": {},
   "outputs": [
    {
     "data": {
      "text/plain": [
       "SystemTime { tv_sec: 1658682718, tv_nsec: 240083080 }"
      ]
     },
     "execution_count": 8,
     "metadata": {},
     "output_type": "execute_result"
    }
   ],
   "source": [
    "SystemTime::now()"
   ]
  },
  {
   "cell_type": "code",
   "execution_count": 10,
   "id": "e1c9235c",
   "metadata": {},
   "outputs": [
    {
     "ename": "Error",
     "evalue": "mismatched types",
     "output_type": "error",
     "traceback": [
      "time::Date::from(SystemTime::now())",
      "\u001b[91m                 ^^^^^^^^^^^^^^^^^\u001b[0m \u001b[94mexpected struct `Date`, found struct `SystemTime`\u001b[0m",
      "mismatched types"
     ]
    }
   ],
   "source": [
    "time::Date::from(SystemTime::now())"
   ]
  },
  {
   "cell_type": "code",
   "execution_count": 81,
   "id": "48542eac",
   "metadata": {},
   "outputs": [],
   "source": [
    "let gigasecond = i64::pow(10, 9);\n",
    "let today = Date::from_calendar_date(2022, Month::July, 24);\n",
    "let midnight = Time::from_hms(0, 0, 0);\n",
    "let datetime = PrimitiveDateTime::new(today.unwrap(), midnight.unwrap());"
   ]
  },
  {
   "cell_type": "code",
   "execution_count": 82,
   "id": "20d0a3a8",
   "metadata": {},
   "outputs": [],
   "source": [
    "let x = datetime + (Duration::new(gigasecond, 0));"
   ]
  },
  {
   "cell_type": "code",
   "execution_count": 65,
   "id": "c7292e5f",
   "metadata": {},
   "outputs": [],
   "source": [
    "fn print_type_of<T>(_: &T) {\n",
    "    println!(\"{}\", std::any::type_name::<T>())\n",
    "}"
   ]
  },
  {
   "cell_type": "code",
   "execution_count": 84,
   "id": "8f5e2848",
   "metadata": {},
   "outputs": [
    {
     "name": "stdout",
     "output_type": "stream",
     "text": [
      "time::primitive_date_time::PrimitiveDateTime\n"
     ]
    },
    {
     "data": {
      "text/plain": [
       "()"
      ]
     },
     "execution_count": 84,
     "metadata": {},
     "output_type": "execute_result"
    }
   ],
   "source": [
    "print_type_of(&x)"
   ]
  }
 ],
 "metadata": {
  "kernelspec": {
   "display_name": "Rust",
   "language": "rust",
   "name": "rust"
  },
  "language_info": {
   "codemirror_mode": "rust",
   "file_extension": ".rs",
   "mimetype": "text/rust",
   "name": "Rust",
   "pygment_lexer": "rust",
   "version": ""
  }
 },
 "nbformat": 4,
 "nbformat_minor": 5
}
