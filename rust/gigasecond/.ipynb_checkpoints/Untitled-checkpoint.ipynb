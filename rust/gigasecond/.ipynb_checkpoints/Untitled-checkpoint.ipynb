{
 "cells": [
  {
   "cell_type": "code",
   "execution_count": 27,
   "id": "770f3c2f",
   "metadata": {},
   "outputs": [
    {
     "ename": "Error",
     "evalue": "error: failed to select a version for `time`.\nversions that meet the requirements `^0.3` (locked to 0.3.11) are: 0.3.11\n\nthe package `evcxr_dummy_validate_dep` depends on `time`, with features: `large_dates` but `time` does not have these features.\n\n\nfailed to select a version for `time` which could resolve this conflict",
     "output_type": "error",
     "traceback": [
      ":dep time = {version = \"0.3\", features = [\"large_dates\"] } ",
      "\u001b[91m     ^^^^^^^^^^^^^^^^^^^^^^^^^^^^^^^^^^^^^^^^^^^^^^^^^^^^^^\u001b[0m \u001b[94m\u001b[0m",
      "error: failed to select a version for `time`.\nversions that meet the requirements `^0.3` (locked to 0.3.11) are: 0.3.11\n\nthe package `evcxr_dummy_validate_dep` depends on `time`, with features: `large_dates` but `time` does not have these features.\n\n\nfailed to select a version for `time` which could resolve this conflict"
     ]
    }
   ],
   "source": [
    ":dep time = {version = \"0.3\", features = [\"large-dates\"] } \n",
    "use time::{Date, Month};\n",
    "use std::time::{SystemTime, UNIX_EPOCH};"
   ]
  },
  {
   "cell_type": "code",
   "execution_count": 8,
   "id": "6ba30809",
   "metadata": {},
   "outputs": [
    {
     "data": {
      "text/plain": [
       "SystemTime { tv_sec: 1658682718, tv_nsec: 240083080 }"
      ]
     },
     "execution_count": 8,
     "metadata": {},
     "output_type": "execute_result"
    }
   ],
   "source": [
    "SystemTime::now()"
   ]
  },
  {
   "cell_type": "code",
   "execution_count": 10,
   "id": "1b1aa825",
   "metadata": {},
   "outputs": [
    {
     "ename": "Error",
     "evalue": "mismatched types",
     "output_type": "error",
     "traceback": [
      "time::Date::from(SystemTime::now())",
      "\u001b[91m                 ^^^^^^^^^^^^^^^^^\u001b[0m \u001b[94mexpected struct `Date`, found struct `SystemTime`\u001b[0m",
      "mismatched types"
     ]
    }
   ],
   "source": [
    "time::Date::from(SystemTime::now())"
   ]
  },
  {
   "cell_type": "code",
   "execution_count": 22,
   "id": "948048fe",
   "metadata": {},
   "outputs": [],
   "source": [
    "let gigasecond = 10^9;\n",
    "let today = time::Date::from_calendar_date(2022, Month::July, 24);"
   ]
  }
 ],
 "metadata": {
  "kernelspec": {
   "display_name": "Rust",
   "language": "rust",
   "name": "rust"
  },
  "language_info": {
   "codemirror_mode": "rust",
   "file_extension": ".rs",
   "mimetype": "text/rust",
   "name": "Rust",
   "pygment_lexer": "rust",
   "version": ""
  }
 },
 "nbformat": 4,
 "nbformat_minor": 5
}
